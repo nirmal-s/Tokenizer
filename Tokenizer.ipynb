{
 "cells": [
  {
   "cell_type": "code",
   "execution_count": null,
   "metadata": {},
   "outputs": [],
   "source": [
    "from datasets import load_dataset\n",
    "from tokenizers import ByteLevelBPETokenizer\n",
    "from transformers import GPT2TokenizerFast"
   ]
  },
  {
   "cell_type": "code",
   "execution_count": null,
   "metadata": {},
   "outputs": [],
   "source": [
    "dataset = load_dataset(\"shivam/marathi_samanantar_processed\")\n",
    "dataset = dataset['train']"
   ]
  },
  {
   "cell_type": "code",
   "execution_count": null,
   "metadata": {},
   "outputs": [],
   "source": [
    "\n",
    "# Initialize a Byte-Pair Encoding(BPE) tokenizer\n",
    "tokenizer = ByteLevelBPETokenizer()"
   ]
  },
  {
   "cell_type": "code",
   "execution_count": 14,
   "metadata": {},
   "outputs": [],
   "source": [
    "# Prepare the dataset for training the tokenizer\n",
    "def batch_iterator(dataset, batch_size=1000):\n",
    "    for i in range(0, len(dataset), batch_size):\n",
    "        yield dataset[i: i + batch_size]['text']\n",
    "\n",
    "# Train the tokenizer\n",
    "tokenizer.train_from_iterator(batch_iterator(dataset), vocab_size=50257,  special_tokens=[\n",
    "    \"<s>\", \"<pad>\", \"</s>\", \"<unk>\", \"<mask>\",\n",
    "])"
   ]
  },
  {
   "cell_type": "code",
   "execution_count": 15,
   "metadata": {},
   "outputs": [
    {
     "data": {
      "text/plain": [
       "['./saved_model\\\\vocab.json', './saved_model\\\\merges.txt']"
      ]
     },
     "execution_count": 15,
     "metadata": {},
     "output_type": "execute_result"
    }
   ],
   "source": [
    "# Save the tokenizer\n",
    "tokenizer.save_model('./saved_model')"
   ]
  },
  {
   "cell_type": "code",
   "execution_count": 5,
   "metadata": {},
   "outputs": [],
   "source": [
    "text = '''भीमराव रामजी आंबेडकर तथा डॉ. बाबासाहेब आंबेडकर (१४ एप्रिल, १८९१ – ६ डिसेंबर, १९५६), \n",
    "हे भारतीय न्यायशास्त्रज्ञ, अर्थशास्त्रज्ञ, राजकारणी, तत्त्वज्ञ आणि समाजसुधारक होते. \n",
    "त्यांनी दलित बौद्ध चळवळीला प्रेरणा दिली आणि अस्पृश्य (दलित) लोकांविरुद्ध होणारा सामाजिक \n",
    "भेदभाव नष्ट करण्यासाठी चळवळ उभारली, तसेच महिलांच्या आणि कामगारांच्या हक्कांचे समर्थन केले. \n",
    "ते ब्रिटिश भारताचे मजूरमंत्री, स्वतंत्र भारताचे पहिले कायदेमंत्री, भारतीय संविधानाचे शिल्पकार, \n",
    "भारतीय बौद्ध धर्माचे पुनरुज्जीवक होते. देशाच्या विविध क्षेत्रांत दिलेल्या योगदानामुळे त्यांना \n",
    "'आधुनिक भारताचे शिल्पकार' किंवा 'आधुनिक भारताचे निर्माते' असेही म्हणतात'''"
   ]
  },
  {
   "cell_type": "code",
   "execution_count": null,
   "metadata": {},
   "outputs": [],
   "source": [
    "# Load the tokenizer from file\n",
    "tokenizer = GPT2TokenizerFast.from_pretrained(\"./saved_model\")"
   ]
  },
  {
   "cell_type": "code",
   "execution_count": 26,
   "metadata": {},
   "outputs": [
    {
     "name": "stdout",
     "output_type": "stream",
     "text": [
      "[319, 268, 728, 264, 278, 311, 264, 1740, 268, 283, 274, 309, 267, 914, 1410, 264, 389, 347, 18, 314]\n",
      "['भ', 'ी', 'मर', 'ा', 'व', ' र', 'ा', 'मज', 'ी', ' आ', 'ं', 'ब', 'े', 'डकर', ' तथ', 'ा', ' ड', 'ॉ', '.', ' ब']\n",
      "भीमराव रामजी आंबेडकर तथा डॉ. बाबासाहेब आंबेडकर (१४ एप्रिल, १८९१ – ६ डिसेंबर, १९५६), \n",
      "हे भारतीय न्याय\n"
     ]
    }
   ],
   "source": [
    "encoded_tokens = tokenizer.encode(text)\n",
    "out_txt = tokenizer.decode(encoded_tokens)\n",
    "print(encoded_tokens[:20])\n",
    "print([tokenizer.decode(input_id) for input_id in encoded_tokens[:20]])\n",
    "print(out_txt[:100])"
   ]
  }
 ],
 "metadata": {
  "kernelspec": {
   "display_name": "ByteBoa",
   "language": "python",
   "name": "python3"
  },
  "language_info": {
   "codemirror_mode": {
    "name": "ipython",
    "version": 3
   },
   "file_extension": ".py",
   "mimetype": "text/x-python",
   "name": "python",
   "nbconvert_exporter": "python",
   "pygments_lexer": "ipython3",
   "version": "3.12.3"
  }
 },
 "nbformat": 4,
 "nbformat_minor": 2
}
